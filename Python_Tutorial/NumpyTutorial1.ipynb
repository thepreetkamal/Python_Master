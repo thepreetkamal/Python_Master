{
 "cells": [
  {
   "cell_type": "code",
   "execution_count": 3,
   "metadata": {},
   "outputs": [
    {
     "output_type": "execute_result",
     "data": {
      "text/plain": "[0, 1, 2, 3, 4]"
     },
     "metadata": {},
     "execution_count": 3
    }
   ],
   "source": [
    "#creating 1D array\n",
    "list1=[0,1,2,3,4]\n",
    "list1"
   ]
  },
  {
   "cell_type": "code",
   "execution_count": 4,
   "metadata": {},
   "outputs": [
    {
     "output_type": "execute_result",
     "data": {
      "text/plain": "array([0, 1, 2, 3, 4])"
     },
     "metadata": {},
     "execution_count": 4
    }
   ],
   "source": [
    "#this is simple list but not numpy array\n",
    "arr1= np.array(list1)\n",
    "arr1"
   ]
  },
  {
   "cell_type": "code",
   "execution_count": null,
   "metadata": {},
   "outputs": [],
   "source": [
    "#difference between array and list: arrays are designed for vectorised functions.Once an array is defined with a particular size, its size cannot be increased although the list size can be increased."
   ]
  },
  {
   "cell_type": "code",
   "execution_count": 6,
   "metadata": {},
   "outputs": [
    {
     "output_type": "execute_result",
     "data": {
      "text/plain": "[0, 1, 2, 3, 4, 5]"
     },
     "metadata": {},
     "execution_count": 6
    }
   ],
   "source": [
    "list1.append(5)\n",
    "list1"
   ]
  },
  {
   "cell_type": "code",
   "execution_count": 7,
   "metadata": {},
   "outputs": [],
   "source": [
    "#Here the size of the list of increased.Another difference between list and array is the set of operations. For example, it is easier to add/subtract a particular number from all elements of an array than in list"
   ]
  },
  {
   "cell_type": "code",
   "execution_count": 8,
   "metadata": {},
   "outputs": [],
   "source": [
    "arr1= arr1+2"
   ]
  },
  {
   "cell_type": "code",
   "execution_count": 9,
   "metadata": {},
   "outputs": [
    {
     "output_type": "execute_result",
     "data": {
      "text/plain": "array([2, 3, 4, 5, 6])"
     },
     "metadata": {},
     "execution_count": 9
    }
   ],
   "source": [
    "arr1"
   ]
  },
  {
   "cell_type": "code",
   "execution_count": 10,
   "metadata": {},
   "outputs": [],
   "source": [
    "list2 = [[1,1,1],[2,2,2],[3,3,3]]\n",
    "arr2d= np.array(list2)"
   ]
  },
  {
   "cell_type": "code",
   "execution_count": 11,
   "metadata": {},
   "outputs": [
    {
     "output_type": "execute_result",
     "data": {
      "text/plain": "array([[1, 1, 1],\n       [2, 2, 2],\n       [3, 3, 3]])"
     },
     "metadata": {},
     "execution_count": 11
    }
   ],
   "source": [
    "arr2d"
   ]
  },
  {
   "cell_type": "code",
   "execution_count": 12,
   "metadata": {},
   "outputs": [
    {
     "output_type": "execute_result",
     "data": {
      "text/plain": "numpy.ndarray"
     },
     "metadata": {},
     "execution_count": 12
    }
   ],
   "source": [
    "#type of the array\n",
    "type(arr2d)"
   ]
  },
  {
   "cell_type": "code",
   "execution_count": 13,
   "metadata": {},
   "outputs": [
    {
     "output_type": "execute_result",
     "data": {
      "text/plain": "dtype('int32')"
     },
     "metadata": {},
     "execution_count": 13
    }
   ],
   "source": [
    "arr2d.dtype"
   ]
  },
  {
   "cell_type": "code",
   "execution_count": 15,
   "metadata": {},
   "outputs": [],
   "source": [
    "#create an array with custom datatype\n",
    "arr2d= np.array(list2,dtype='float')"
   ]
  },
  {
   "cell_type": "code",
   "execution_count": 16,
   "metadata": {},
   "outputs": [
    {
     "output_type": "execute_result",
     "data": {
      "text/plain": "array([[1., 1., 1.],\n       [2., 2., 2.],\n       [3., 3., 3.]])"
     },
     "metadata": {},
     "execution_count": 16
    }
   ],
   "source": [
    "arr2d"
   ]
  },
  {
   "cell_type": "code",
   "execution_count": 17,
   "metadata": {},
   "outputs": [
    {
     "output_type": "execute_result",
     "data": {
      "text/plain": "dtype('float64')"
     },
     "metadata": {},
     "execution_count": 17
    }
   ],
   "source": [
    "arr2d.dtype"
   ]
  },
  {
   "cell_type": "code",
   "execution_count": 19,
   "metadata": {},
   "outputs": [
    {
     "output_type": "execute_result",
     "data": {
      "text/plain": "array([[1, 1, 1],\n       [2, 2, 2],\n       [3, 3, 3]])"
     },
     "metadata": {},
     "execution_count": 19
    }
   ],
   "source": [
    "arr2d.astype('int') #changing to int datatype"
   ]
  },
  {
   "cell_type": "code",
   "execution_count": 20,
   "metadata": {},
   "outputs": [
    {
     "output_type": "execute_result",
     "data": {
      "text/plain": "array([['1.0', '1.0', '1.0'],\n       ['2.0', '2.0', '2.0'],\n       ['3.0', '3.0', '3.0']], dtype='<U32')"
     },
     "metadata": {},
     "execution_count": 20
    }
   ],
   "source": [
    "arr2d.astype('str') #.appears as arr2d is still float type"
   ]
  },
  {
   "cell_type": "code",
   "execution_count": 21,
   "metadata": {},
   "outputs": [],
   "source": [
    "#Another difference\n",
    "list1.append('6')"
   ]
  },
  {
   "cell_type": "code",
   "execution_count": 22,
   "metadata": {},
   "outputs": [
    {
     "output_type": "execute_result",
     "data": {
      "text/plain": "[0, 1, 2, 3, 4, 5, '6']"
     },
     "metadata": {},
     "execution_count": 22
    }
   ],
   "source": [
    "list1"
   ]
  },
  {
   "cell_type": "code",
   "execution_count": 23,
   "metadata": {},
   "outputs": [],
   "source": [
    "#'6' is string here. so list is colllection of multiple datatype unlike array.\n",
    "#convert numpy array to list\n",
    "np2list= arr2d.tolist()"
   ]
  },
  {
   "cell_type": "code",
   "execution_count": 24,
   "metadata": {},
   "outputs": [
    {
     "output_type": "execute_result",
     "data": {
      "text/plain": "[[1.0, 1.0, 1.0], [2.0, 2.0, 2.0], [3.0, 3.0, 3.0]]"
     },
     "metadata": {},
     "execution_count": 24
    }
   ],
   "source": [
    "np2list"
   ]
  },
  {
   "cell_type": "code",
   "execution_count": 25,
   "metadata": {},
   "outputs": [
    {
     "output_type": "execute_result",
     "data": {
      "text/plain": "b'\\x00\\x00\\x00\\x00\\x00\\x00\\xf0?\\x00\\x00\\x00\\x00\\x00\\x00\\xf0?\\x00\\x00\\x00\\x00\\x00\\x00\\xf0?\\x00\\x00\\x00\\x00\\x00\\x00\\x00@\\x00\\x00\\x00\\x00\\x00\\x00\\x00@\\x00\\x00\\x00\\x00\\x00\\x00\\x00@\\x00\\x00\\x00\\x00\\x00\\x00\\x08@\\x00\\x00\\x00\\x00\\x00\\x00\\x08@\\x00\\x00\\x00\\x00\\x00\\x00\\x08@'"
     },
     "metadata": {},
     "execution_count": 25
    }
   ],
   "source": [
    "arr2d.tostring() #converted to byte string"
   ]
  },
  {
   "cell_type": "code",
   "execution_count": 26,
   "metadata": {},
   "outputs": [
    {
     "output_type": "execute_result",
     "data": {
      "text/plain": "b'\\x00\\x00\\x00\\x00\\x00\\x00\\xf0?\\x00\\x00\\x00\\x00\\x00\\x00\\xf0?\\x00\\x00\\x00\\x00\\x00\\x00\\xf0?\\x00\\x00\\x00\\x00\\x00\\x00\\x00@\\x00\\x00\\x00\\x00\\x00\\x00\\x00@\\x00\\x00\\x00\\x00\\x00\\x00\\x00@\\x00\\x00\\x00\\x00\\x00\\x00\\x08@\\x00\\x00\\x00\\x00\\x00\\x00\\x08@\\x00\\x00\\x00\\x00\\x00\\x00\\x08@'"
     },
     "metadata": {},
     "execution_count": 26
    }
   ],
   "source": [
    "arr2d.tobytes()"
   ]
  },
  {
   "cell_type": "code",
   "execution_count": 27,
   "metadata": {},
   "outputs": [],
   "source": [
    "#dtype and shape"
   ]
  },
  {
   "cell_type": "code",
   "execution_count": 29,
   "metadata": {},
   "outputs": [
    {
     "output_type": "execute_result",
     "data": {
      "text/plain": "[[1, 1, 1], [2, 2, 2], [3, 3, 3]]"
     },
     "metadata": {},
     "execution_count": 29
    }
   ],
   "source": [
    "list2"
   ]
  },
  {
   "cell_type": "code",
   "execution_count": 30,
   "metadata": {},
   "outputs": [
    {
     "output_type": "execute_result",
     "data": {
      "text/plain": "array([[1., 1., 1.],\n       [2., 2., 2.],\n       [3., 3., 3.]])"
     },
     "metadata": {},
     "execution_count": 30
    }
   ],
   "source": [
    "arr2d"
   ]
  },
  {
   "cell_type": "code",
   "execution_count": 31,
   "metadata": {},
   "outputs": [
    {
     "output_type": "execute_result",
     "data": {
      "text/plain": "array([[1., 1., 1.],\n       [2., 2., 2.],\n       [3., 3., 3.]])"
     },
     "metadata": {},
     "execution_count": 31
    }
   ],
   "source": [
    "arr2d.astype('float')"
   ]
  },
  {
   "cell_type": "code",
   "execution_count": 33,
   "metadata": {
    "tags": []
   },
   "outputs": [
    {
     "output_type": "stream",
     "name": "stdout",
     "text": "shape:  (3, 3)\n"
    }
   ],
   "source": [
    "print(\"shape: \",arr2d.shape)"
   ]
  },
  {
   "cell_type": "code",
   "execution_count": 35,
   "metadata": {
    "tags": []
   },
   "outputs": [
    {
     "output_type": "stream",
     "name": "stdout",
     "text": "Data-Type:  float64\n"
    }
   ],
   "source": [
    "print(\"Data-Type: \",arr2d.dtype)"
   ]
  },
  {
   "cell_type": "code",
   "execution_count": 36,
   "metadata": {
    "tags": []
   },
   "outputs": [
    {
     "output_type": "stream",
     "name": "stdout",
     "text": "size:  9\n"
    }
   ],
   "source": [
    "print(\"size: \",arr2d.size)"
   ]
  },
  {
   "cell_type": "code",
   "execution_count": 37,
   "metadata": {
    "tags": []
   },
   "outputs": [
    {
     "output_type": "stream",
     "name": "stdout",
     "text": "Dimension:  2\n"
    }
   ],
   "source": [
    "print(\"Dimension: \",arr2d.ndim)"
   ]
  },
  {
   "cell_type": "code",
   "execution_count": 40,
   "metadata": {},
   "outputs": [
    {
     "output_type": "execute_result",
     "data": {
      "text/plain": "2.0"
     },
     "metadata": {},
     "execution_count": 40
    }
   ],
   "source": [
    "#extract specific element\n",
    "arr2d[1][1] #[R][C]"
   ]
  },
  {
   "cell_type": "code",
   "execution_count": 41,
   "metadata": {},
   "outputs": [
    {
     "output_type": "execute_result",
     "data": {
      "text/plain": "array([[1., 1., 1.],\n       [2., 2., 2.],\n       [3., 3., 3.]])"
     },
     "metadata": {},
     "execution_count": 41
    }
   ],
   "source": [
    "arr2d"
   ]
  },
  {
   "cell_type": "code",
   "execution_count": 42,
   "metadata": {},
   "outputs": [],
   "source": [
    "boolarr = arr2d<3"
   ]
  },
  {
   "cell_type": "code",
   "execution_count": 43,
   "metadata": {},
   "outputs": [
    {
     "output_type": "execute_result",
     "data": {
      "text/plain": "array([[ True,  True,  True],\n       [ True,  True,  True],\n       [False, False, False]])"
     },
     "metadata": {},
     "execution_count": 43
    }
   ],
   "source": [
    "boolarr"
   ]
  },
  {
   "cell_type": "code",
   "execution_count": 44,
   "metadata": {},
   "outputs": [
    {
     "output_type": "execute_result",
     "data": {
      "text/plain": "array([[3., 3., 3.],\n       [2., 2., 2.],\n       [1., 1., 1.]])"
     },
     "metadata": {},
     "execution_count": 44
    }
   ],
   "source": [
    "#to change the rows\n",
    "arr2d[::-1,]"
   ]
  },
  {
   "cell_type": "code",
   "execution_count": 45,
   "metadata": {},
   "outputs": [
    {
     "output_type": "execute_result",
     "data": {
      "text/plain": "array([[3., 3., 3.],\n       [2., 2., 2.],\n       [1., 1., 1.]])"
     },
     "metadata": {},
     "execution_count": 45
    }
   ],
   "source": [
    "#transpose\n",
    "arr2d[::-1,::-1]"
   ]
  },
  {
   "cell_type": "code",
   "execution_count": 46,
   "metadata": {},
   "outputs": [
    {
     "output_type": "execute_result",
     "data": {
      "text/plain": "nan"
     },
     "metadata": {},
     "execution_count": 46
    }
   ],
   "source": [
    "#represnt np.nan ,np.inf\n",
    "np.nan #not a number"
   ]
  },
  {
   "cell_type": "code",
   "execution_count": 48,
   "metadata": {},
   "outputs": [
    {
     "output_type": "execute_result",
     "data": {
      "text/plain": "inf"
     },
     "metadata": {},
     "execution_count": 48
    }
   ],
   "source": [
    "np.inf #infinity, data computation cannot be performed"
   ]
  },
  {
   "cell_type": "code",
   "execution_count": 49,
   "metadata": {},
   "outputs": [
    {
     "output_type": "execute_result",
     "data": {
      "text/plain": "array([[1., 1., 1.],\n       [2., 2., 2.],\n       [3., 3., 3.]])"
     },
     "metadata": {},
     "execution_count": 49
    }
   ],
   "source": [
    "arr2d"
   ]
  },
  {
   "cell_type": "code",
   "execution_count": 50,
   "metadata": {},
   "outputs": [],
   "source": [
    "#insert a number\n",
    "arr2d[0][0] = np.nan\n",
    "arr2d[1][1] =np.inf"
   ]
  },
  {
   "cell_type": "code",
   "execution_count": 51,
   "metadata": {},
   "outputs": [
    {
     "output_type": "execute_result",
     "data": {
      "text/plain": "array([[nan,  1.,  1.],\n       [ 2., inf,  2.],\n       [ 3.,  3.,  3.]])"
     },
     "metadata": {},
     "execution_count": 51
    }
   ],
   "source": [
    "arr2d"
   ]
  },
  {
   "cell_type": "code",
   "execution_count": 53,
   "metadata": {},
   "outputs": [
    {
     "output_type": "execute_result",
     "data": {
      "text/plain": "array([[ True, False, False],\n       [False, False, False],\n       [False, False, False]])"
     },
     "metadata": {},
     "execution_count": 53
    }
   ],
   "source": [
    "#check for null values, infinite number or nan?\n",
    "np.isnan(arr2d)"
   ]
  },
  {
   "cell_type": "code",
   "execution_count": 54,
   "metadata": {},
   "outputs": [
    {
     "output_type": "execute_result",
     "data": {
      "text/plain": "array([[False, False, False],\n       [False,  True, False],\n       [False, False, False]])"
     },
     "metadata": {},
     "execution_count": 54
    }
   ],
   "source": [
    "np.isinf(arr2d)"
   ]
  },
  {
   "cell_type": "code",
   "execution_count": 55,
   "metadata": {},
   "outputs": [],
   "source": [
    "#replace any number\n",
    "missing_flag = np.isnan(arr2d) | np.isinf(arr2d)"
   ]
  },
  {
   "cell_type": "code",
   "execution_count": 56,
   "metadata": {},
   "outputs": [
    {
     "output_type": "execute_result",
     "data": {
      "text/plain": "array([[ True, False, False],\n       [False,  True, False],\n       [False, False, False]])"
     },
     "metadata": {},
     "execution_count": 56
    }
   ],
   "source": [
    "missing_flag"
   ]
  },
  {
   "cell_type": "code",
   "execution_count": 57,
   "metadata": {},
   "outputs": [
    {
     "output_type": "execute_result",
     "data": {
      "text/plain": "array([[0., 1., 1.],\n       [2., 0., 2.],\n       [3., 3., 3.]])"
     },
     "metadata": {},
     "execution_count": 57
    }
   ],
   "source": [
    "#replace inf & nan with zero\n",
    "arr2d[missing_flag]=0\n",
    "arr2d"
   ]
  },
  {
   "cell_type": "code",
   "execution_count": 58,
   "metadata": {},
   "outputs": [
    {
     "output_type": "execute_result",
     "data": {
      "text/plain": "1.6666666666666667"
     },
     "metadata": {},
     "execution_count": 58
    }
   ],
   "source": [
    "#statistical operations on numpy array\n",
    "arr2d.mean()"
   ]
  },
  {
   "cell_type": "code",
   "execution_count": 59,
   "metadata": {},
   "outputs": [
    {
     "output_type": "execute_result",
     "data": {
      "text/plain": "3.0"
     },
     "metadata": {},
     "execution_count": 59
    }
   ],
   "source": [
    "arr2d.max()"
   ]
  },
  {
   "cell_type": "code",
   "execution_count": 60,
   "metadata": {},
   "outputs": [
    {
     "output_type": "execute_result",
     "data": {
      "text/plain": "0.0"
     },
     "metadata": {},
     "execution_count": 60
    }
   ],
   "source": [
    "arr2d.min()"
   ]
  },
  {
   "cell_type": "code",
   "execution_count": 61,
   "metadata": {},
   "outputs": [
    {
     "output_type": "execute_result",
     "data": {
      "text/plain": "1.1547005383792515"
     },
     "metadata": {},
     "execution_count": 61
    }
   ],
   "source": [
    "arr2d.std()"
   ]
  },
  {
   "cell_type": "code",
   "execution_count": 62,
   "metadata": {},
   "outputs": [
    {
     "output_type": "execute_result",
     "data": {
      "text/plain": "1.3333333333333333"
     },
     "metadata": {},
     "execution_count": 62
    }
   ],
   "source": [
    "arr2d.var()"
   ]
  },
  {
   "cell_type": "code",
   "execution_count": 63,
   "metadata": {},
   "outputs": [
    {
     "output_type": "execute_result",
     "data": {
      "text/plain": "array([[0., 1., 1.],\n       [2., 0., 2.],\n       [3., 3., 3.]])"
     },
     "metadata": {},
     "execution_count": 63
    }
   ],
   "source": [
    "arr2d.squeeze()"
   ]
  },
  {
   "cell_type": "code",
   "execution_count": 65,
   "metadata": {
    "tags": []
   },
   "outputs": [
    {
     "output_type": "stream",
     "name": "stdout",
     "text": "Input array :  [[[2 2 2]\n  [2 2 2]]]\nShape of input array :  (1, 2, 3)\n"
    }
   ],
   "source": [
    "in_arr = np.array([[[2, 2, 2], [2, 2, 2]]])  \n",
    "print (\"Input array : \", in_arr)  \n",
    "print(\"Shape of input array : \", in_arr.shape)   "
   ]
  },
  {
   "cell_type": "code",
   "execution_count": 66,
   "metadata": {
    "tags": []
   },
   "outputs": [
    {
     "output_type": "stream",
     "name": "stdout",
     "text": "output squeezed array :  [[2 2 2]\n [2 2 2]]\nShape of output array :  (2, 3)\n"
    }
   ],
   "source": [
    "out_arr = np.squeeze(in_arr)  \n",
    "print (\"output squeezed array : \", out_arr) \n",
    "print(\"Shape of output array : \", out_arr.shape)  "
   ]
  },
  {
   "cell_type": "code",
   "execution_count": 67,
   "metadata": {},
   "outputs": [
    {
     "output_type": "execute_result",
     "data": {
      "text/plain": "array([ 0.,  1.,  2.,  4.,  4.,  6.,  9., 12., 15.])"
     },
     "metadata": {},
     "execution_count": 67
    }
   ],
   "source": [
    "arr2d.cumsum()"
   ]
  },
  {
   "cell_type": "code",
   "execution_count": 68,
   "metadata": {},
   "outputs": [
    {
     "output_type": "execute_result",
     "data": {
      "text/plain": "array([[0., 1.],\n       [2., 0.]])"
     },
     "metadata": {},
     "execution_count": 68
    }
   ],
   "source": [
    "#creating array from existing array\n",
    "arr= arr2d[:2,:2]\n",
    "arr"
   ]
  },
  {
   "cell_type": "code",
   "execution_count": 71,
   "metadata": {},
   "outputs": [
    {
     "output_type": "execute_result",
     "data": {
      "text/plain": "array([[0., 2.],\n       [3., 3.]])"
     },
     "metadata": {},
     "execution_count": 71
    }
   ],
   "source": [
    "arr2d[1:3,1:3]"
   ]
  },
  {
   "cell_type": "code",
   "execution_count": 72,
   "metadata": {},
   "outputs": [
    {
     "output_type": "execute_result",
     "data": {
      "text/plain": "array([[0.],\n       [3.]])"
     },
     "metadata": {},
     "execution_count": 72
    }
   ],
   "source": [
    "arr2d[1:3,1:2]"
   ]
  },
  {
   "cell_type": "code",
   "execution_count": 73,
   "metadata": {},
   "outputs": [
    {
     "output_type": "execute_result",
     "data": {
      "text/plain": "array([[0., 1., 1.],\n       [2., 0., 2.],\n       [3., 3., 3.]])"
     },
     "metadata": {},
     "execution_count": 73
    }
   ],
   "source": [
    "#reshape the array\n",
    "arr2d"
   ]
  },
  {
   "cell_type": "code",
   "execution_count": 74,
   "metadata": {},
   "outputs": [
    {
     "output_type": "execute_result",
     "data": {
      "text/plain": "array([[0., 1., 1., 2., 0., 2., 3., 3., 3.]])"
     },
     "metadata": {},
     "execution_count": 74
    }
   ],
   "source": [
    "arr2d.reshape(1,9)"
   ]
  },
  {
   "cell_type": "code",
   "execution_count": 75,
   "metadata": {},
   "outputs": [
    {
     "output_type": "execute_result",
     "data": {
      "text/plain": "array([[0.],\n       [1.],\n       [1.],\n       [2.],\n       [0.],\n       [2.],\n       [3.],\n       [3.],\n       [3.]])"
     },
     "metadata": {},
     "execution_count": 75
    }
   ],
   "source": [
    "arr2d.reshape(9,1)"
   ]
  },
  {
   "cell_type": "code",
   "execution_count": 76,
   "metadata": {},
   "outputs": [
    {
     "output_type": "execute_result",
     "data": {
      "text/plain": "array([0., 1., 1., 2., 0., 2., 3., 3., 3.])"
     },
     "metadata": {},
     "execution_count": 76
    }
   ],
   "source": [
    "arr2d.flatten() #2d is converted into 1d\n",
    "# a copy is created"
   ]
  },
  {
   "cell_type": "code",
   "execution_count": 79,
   "metadata": {},
   "outputs": [],
   "source": [
    "b=arr2d.ravel()\n",
    "# a reference is created"
   ]
  },
  {
   "cell_type": "code",
   "execution_count": 80,
   "metadata": {},
   "outputs": [
    {
     "output_type": "execute_result",
     "data": {
      "text/plain": "array([[-1.,  1.,  1.],\n       [ 2.,  0.,  2.],\n       [ 3.,  3.,  3.]])"
     },
     "metadata": {},
     "execution_count": 80
    }
   ],
   "source": [
    "#diff between flatten and ravel is\n",
    "#ravel uses the reference to the original array.Any changes willaffect the parent as well.\n",
    "b[0]=-1\n",
    "arr2d"
   ]
  },
  {
   "cell_type": "code",
   "execution_count": 81,
   "metadata": {},
   "outputs": [
    {
     "output_type": "execute_result",
     "data": {
      "text/plain": "array([1, 2, 3, 4])"
     },
     "metadata": {},
     "execution_count": 81
    }
   ],
   "source": [
    "#sequence , repition of random numbers\n",
    "np.arange(1,5)"
   ]
  },
  {
   "cell_type": "code",
   "execution_count": 84,
   "metadata": {},
   "outputs": [
    {
     "output_type": "execute_result",
     "data": {
      "text/plain": "array([1., 2., 3., 4.])"
     },
     "metadata": {},
     "execution_count": 84
    }
   ],
   "source": [
    "np.arange(1,5,dtype='float')"
   ]
  },
  {
   "cell_type": "code",
   "execution_count": 85,
   "metadata": {},
   "outputs": [
    {
     "output_type": "execute_result",
     "data": {
      "text/plain": "array([1, 2, 3, 4])"
     },
     "metadata": {},
     "execution_count": 85
    }
   ],
   "source": [
    "np.arange(1,5,dtype='int')"
   ]
  },
  {
   "cell_type": "code",
   "execution_count": 86,
   "metadata": {},
   "outputs": [
    {
     "output_type": "execute_result",
     "data": {
      "text/plain": "array([1, 2, 3, 4], dtype=object)"
     },
     "metadata": {},
     "execution_count": 86
    }
   ],
   "source": [
    "np.arange(1,5,dtype='object')"
   ]
  },
  {
   "cell_type": "code",
   "execution_count": 87,
   "metadata": {},
   "outputs": [
    {
     "output_type": "execute_result",
     "data": {
      "text/plain": "array([ 2,  4,  6,  8, 10, 12, 14, 16, 18, 20, 22, 24, 26, 28, 30, 32, 34,\n       36, 38, 40, 42, 44, 46, 48])"
     },
     "metadata": {},
     "execution_count": 87
    }
   ],
   "source": [
    "np.arange(2,50,2) #even no between 2 and 50"
   ]
  },
  {
   "cell_type": "code",
   "execution_count": 89,
   "metadata": {},
   "outputs": [
    {
     "output_type": "execute_result",
     "data": {
      "text/plain": "array([ 1.        ,  1.49494949,  1.98989899,  2.48484848,  2.97979798,\n        3.47474747,  3.96969697,  4.46464646,  4.95959596,  5.45454545,\n        5.94949495,  6.44444444,  6.93939394,  7.43434343,  7.92929293,\n        8.42424242,  8.91919192,  9.41414141,  9.90909091, 10.4040404 ,\n       10.8989899 , 11.39393939, 11.88888889, 12.38383838, 12.87878788,\n       13.37373737, 13.86868687, 14.36363636, 14.85858586, 15.35353535,\n       15.84848485, 16.34343434, 16.83838384, 17.33333333, 17.82828283,\n       18.32323232, 18.81818182, 19.31313131, 19.80808081, 20.3030303 ,\n       20.7979798 , 21.29292929, 21.78787879, 22.28282828, 22.77777778,\n       23.27272727, 23.76767677, 24.26262626, 24.75757576, 25.25252525,\n       25.74747475, 26.24242424, 26.73737374, 27.23232323, 27.72727273,\n       28.22222222, 28.71717172, 29.21212121, 29.70707071, 30.2020202 ,\n       30.6969697 , 31.19191919, 31.68686869, 32.18181818, 32.67676768,\n       33.17171717, 33.66666667, 34.16161616, 34.65656566, 35.15151515,\n       35.64646465, 36.14141414, 36.63636364, 37.13131313, 37.62626263,\n       38.12121212, 38.61616162, 39.11111111, 39.60606061, 40.1010101 ,\n       40.5959596 , 41.09090909, 41.58585859, 42.08080808, 42.57575758,\n       43.07070707, 43.56565657, 44.06060606, 44.55555556, 45.05050505,\n       45.54545455, 46.04040404, 46.53535354, 47.03030303, 47.52525253,\n       48.02020202, 48.51515152, 49.01010101, 49.50505051, 50.        ])"
     },
     "metadata": {},
     "execution_count": 89
    }
   ],
   "source": [
    "np.linspace(1,50,100) #100 nos are generated between 1 and 50 (here exact count can be specified)no are generated in linear space"
   ]
  },
  {
   "cell_type": "code",
   "execution_count": 90,
   "metadata": {},
   "outputs": [
    {
     "output_type": "execute_result",
     "data": {
      "text/plain": "array([1.00000000e+01, 2.78255940e+06, 7.74263683e+11, 2.15443469e+17,\n       5.99484250e+22, 1.66810054e+28, 4.64158883e+33, 1.29154967e+39,\n       3.59381366e+44, 1.00000000e+50])"
     },
     "metadata": {},
     "execution_count": 90
    }
   ],
   "source": [
    "np.logspace(1,50,10) #10 numbers on log space"
   ]
  },
  {
   "cell_type": "code",
   "execution_count": 92,
   "metadata": {},
   "outputs": [
    {
     "output_type": "execute_result",
     "data": {
      "text/plain": "array([[0., 0.],\n       [0., 0.]])"
     },
     "metadata": {},
     "execution_count": 92
    }
   ],
   "source": [
    "np.zeros([2,2])"
   ]
  },
  {
   "cell_type": "code",
   "execution_count": 93,
   "metadata": {},
   "outputs": [
    {
     "output_type": "execute_result",
     "data": {
      "text/plain": "array([[1., 1., 1.],\n       [1., 1., 1.]])"
     },
     "metadata": {},
     "execution_count": 93
    }
   ],
   "source": [
    "np.ones([2,3])"
   ]
  },
  {
   "cell_type": "code",
   "execution_count": 94,
   "metadata": {},
   "outputs": [],
   "source": [
    "a=[1,2,3]"
   ]
  },
  {
   "cell_type": "code",
   "execution_count": 95,
   "metadata": {},
   "outputs": [
    {
     "output_type": "execute_result",
     "data": {
      "text/plain": "array([1, 2, 3, 1, 2, 3, 1, 2, 3])"
     },
     "metadata": {},
     "execution_count": 95
    }
   ],
   "source": [
    "np.tile(a,3) #repaet array 3 times"
   ]
  },
  {
   "cell_type": "code",
   "execution_count": 97,
   "metadata": {},
   "outputs": [
    {
     "output_type": "execute_result",
     "data": {
      "text/plain": "array([1, 1, 1, 2, 2, 2, 3, 3, 3])"
     },
     "metadata": {},
     "execution_count": 97
    }
   ],
   "source": [
    "np.repeat(a,3) #repeat each element 3 times"
   ]
  },
  {
   "cell_type": "code",
   "execution_count": 98,
   "metadata": {},
   "outputs": [
    {
     "output_type": "execute_result",
     "data": {
      "text/plain": "array([-1., -1., -1.,  1.,  1.,  1.,  1.,  1.,  1.,  2.,  2.,  2.,  0.,\n        0.,  0.,  2.,  2.,  2.,  3.,  3.,  3.,  3.,  3.,  3.,  3.,  3.,\n        3.])"
     },
     "metadata": {},
     "execution_count": 98
    }
   ],
   "source": [
    "np.repeat(arr2d,3)"
   ]
  },
  {
   "cell_type": "code",
   "execution_count": 99,
   "metadata": {},
   "outputs": [
    {
     "output_type": "execute_result",
     "data": {
      "text/plain": "array([[0.48817046, 0.69810212, 0.95659324]])"
     },
     "metadata": {},
     "execution_count": 99
    }
   ],
   "source": [
    "#generate random numbers\n",
    "np.random.rand(1,3) #1*3 matrix,these generated numbers are uniformly distributed"
   ]
  },
  {
   "cell_type": "code",
   "execution_count": 100,
   "metadata": {},
   "outputs": [
    {
     "output_type": "execute_result",
     "data": {
      "text/plain": "array([[0.15503162, 0.56398301, 0.73030306],\n       [0.26992077, 0.39016438, 0.26067684],\n       [0.08762378, 0.1700684 , 0.64251456]])"
     },
     "metadata": {},
     "execution_count": 100
    }
   ],
   "source": [
    "np.random.rand(3,3) "
   ]
  },
  {
   "cell_type": "code",
   "execution_count": 101,
   "metadata": {},
   "outputs": [
    {
     "output_type": "execute_result",
     "data": {
      "text/plain": "array([[ 0.31699297, -0.83881301, -1.22025835],\n       [-0.08881897,  0.66504757, -0.91232819],\n       [-0.2976559 ,  0.1695125 ,  0.04933316]])"
     },
     "metadata": {},
     "execution_count": 101
    }
   ],
   "source": [
    "#for normal distributed random numbers, use\n",
    "np.random.randn(3,3)"
   ]
  },
  {
   "cell_type": "code",
   "execution_count": 102,
   "metadata": {},
   "outputs": [
    {
     "output_type": "execute_result",
     "data": {
      "text/plain": "5"
     },
     "metadata": {},
     "execution_count": 102
    }
   ],
   "source": [
    "#generate random no with integer\n",
    "np.random.randint(0,10)"
   ]
  },
  {
   "cell_type": "code",
   "execution_count": 103,
   "metadata": {},
   "outputs": [
    {
     "output_type": "execute_result",
     "data": {
      "text/plain": "array([[3, 4, 3],\n       [3, 2, 6],\n       [3, 6, 6]])"
     },
     "metadata": {},
     "execution_count": 103
    }
   ],
   "source": [
    "np.random.randint(0,10,[3,3]) #[3,3] is the size"
   ]
  },
  {
   "cell_type": "code",
   "execution_count": 104,
   "metadata": {},
   "outputs": [
    {
     "output_type": "execute_result",
     "data": {
      "text/plain": "array([[5, 0, 3],\n       [3, 7, 9],\n       [3, 5, 2]])"
     },
     "metadata": {},
     "execution_count": 104
    }
   ],
   "source": [
    "#reproduce same random number\n",
    "np.random.seed(0)\n",
    "np.random.randint(0,10,[3,3])"
   ]
  },
  {
   "cell_type": "code",
   "execution_count": 105,
   "metadata": {},
   "outputs": [
    {
     "output_type": "execute_result",
     "data": {
      "text/plain": "array([[5, 8, 9],\n       [5, 0, 0],\n       [1, 7, 6]])"
     },
     "metadata": {},
     "execution_count": 105
    }
   ],
   "source": [
    "np.random.seed(1)\n",
    "np.random.randint(0,10,[3,3])"
   ]
  },
  {
   "cell_type": "code",
   "execution_count": 106,
   "metadata": {},
   "outputs": [
    {
     "output_type": "execute_result",
     "data": {
      "text/plain": "array([-1.,  0.,  1.,  2.,  3.])"
     },
     "metadata": {},
     "execution_count": 106
    }
   ],
   "source": [
    "#unique items and counts\n",
    "np.unique(arr2d)"
   ]
  },
  {
   "cell_type": "code",
   "execution_count": 107,
   "metadata": {},
   "outputs": [
    {
     "output_type": "execute_result",
     "data": {
      "text/plain": "array([-1.,  0.,  1.,  2.,  3.])"
     },
     "metadata": {},
     "execution_count": 107
    }
   ],
   "source": [
    "uni,cou = np.unique(arr2d,return_counts=True)\n",
    "uni"
   ]
  },
  {
   "cell_type": "code",
   "execution_count": 108,
   "metadata": {},
   "outputs": [
    {
     "output_type": "execute_result",
     "data": {
      "text/plain": "array([1, 1, 2, 2, 3])"
     },
     "metadata": {},
     "execution_count": 108
    }
   ],
   "source": [
    "cou"
   ]
  },
  {
   "cell_type": "code",
   "execution_count": 1,
   "metadata": {},
   "outputs": [],
   "source": [
    "#part 2 https://www.youtube.com/watch?v=04I9eoEn8Rs"
   ]
  },
  {
   "cell_type": "code",
   "execution_count": 3,
   "metadata": {},
   "outputs": [
    {
     "output_type": "execute_result",
     "data": {
      "text/plain": "array([10, 23, 45,  6,  8, 90, 12, 34, 67])"
     },
     "metadata": {},
     "execution_count": 3
    }
   ],
   "source": [
    "#get index location based on given \n",
    "arr= np.array([10,23,45,6,8,90,12,34,67])\n",
    "arr"
   ]
  },
  {
   "cell_type": "code",
   "execution_count": 6,
   "metadata": {},
   "outputs": [],
   "source": [
    "#print array index where element is greater than 10\n",
    "index_gt10= np.where(arr>10)"
   ]
  },
  {
   "cell_type": "code",
   "execution_count": 9,
   "metadata": {},
   "outputs": [
    {
     "output_type": "execute_result",
     "data": {
      "text/plain": "(array([1, 2, 5, 6, 7, 8], dtype=int32),)"
     },
     "metadata": {},
     "execution_count": 9
    }
   ],
   "source": [
    "index_gt10"
   ]
  },
  {
   "cell_type": "code",
   "execution_count": 10,
   "metadata": {},
   "outputs": [
    {
     "output_type": "execute_result",
     "data": {
      "text/plain": "array([23, 45, 90, 12, 34, 67])"
     },
     "metadata": {},
     "execution_count": 10
    }
   ],
   "source": [
    "arr[index_gt10]  #print values with index"
   ]
  },
  {
   "cell_type": "code",
   "execution_count": 14,
   "metadata": {},
   "outputs": [
    {
     "output_type": "execute_result",
     "data": {
      "text/plain": "array([23, 45, 90, 12, 34, 67])"
     },
     "metadata": {},
     "execution_count": 14
    }
   ],
   "source": [
    "#above 3 steps can be combined as\n",
    "arr[arr>10]"
   ]
  },
  {
   "cell_type": "code",
   "execution_count": 17,
   "metadata": {},
   "outputs": [
    {
     "output_type": "execute_result",
     "data": {
      "text/plain": "array([False,  True,  True, False, False,  True,  True,  True,  True])"
     },
     "metadata": {},
     "execution_count": 17
    }
   ],
   "source": [
    "arr> 10 #boolean true based on condition/logical condition"
   ]
  },
  {
   "cell_type": "code",
   "execution_count": 19,
   "metadata": {},
   "outputs": [
    {
     "output_type": "execute_result",
     "data": {
      "text/plain": "array(['lt10', 'gt10', 'gt10', 'lt10', 'lt10', 'gt10', 'gt10', 'gt10',\n       'gt10'], dtype='<U4')"
     },
     "metadata": {},
     "execution_count": 19
    }
   ],
   "source": [
    "np.where(arr>10,'gt10','lt10') #print based on condition"
   ]
  },
  {
   "cell_type": "code",
   "execution_count": 20,
   "metadata": {},
   "outputs": [
    {
     "output_type": "execute_result",
     "data": {
      "text/plain": "array([10, 23, 45,  6,  8, 90, 12, 34, 67])"
     },
     "metadata": {},
     "execution_count": 20
    }
   ],
   "source": [
    "arr"
   ]
  },
  {
   "cell_type": "code",
   "execution_count": 21,
   "metadata": {},
   "outputs": [
    {
     "output_type": "execute_result",
     "data": {
      "text/plain": "90"
     },
     "metadata": {},
     "execution_count": 21
    }
   ],
   "source": [
    "arr.max()"
   ]
  },
  {
   "cell_type": "code",
   "execution_count": 22,
   "metadata": {},
   "outputs": [
    {
     "output_type": "execute_result",
     "data": {
      "text/plain": "5"
     },
     "metadata": {},
     "execution_count": 22
    }
   ],
   "source": [
    "#index of max value\n",
    "arr.argmax()"
   ]
  },
  {
   "cell_type": "code",
   "execution_count": 23,
   "metadata": {},
   "outputs": [
    {
     "output_type": "execute_result",
     "data": {
      "text/plain": "6"
     },
     "metadata": {},
     "execution_count": 23
    }
   ],
   "source": [
    "# value of min\n",
    "arr[arr.argmin()]"
   ]
  },
  {
   "cell_type": "code",
   "execution_count": 24,
   "metadata": {},
   "outputs": [
    {
     "output_type": "execute_result",
     "data": {
      "text/plain": "3"
     },
     "metadata": {},
     "execution_count": 24
    }
   ],
   "source": [
    "#index of min\n",
    "arr.argmin()"
   ]
  },
  {
   "cell_type": "code",
   "execution_count": 25,
   "metadata": {},
   "outputs": [],
   "source": [
    "#read and write txt file"
   ]
  },
  {
   "cell_type": "code",
   "execution_count": 26,
   "metadata": {},
   "outputs": [],
   "source": [
    "#2 methods\n",
    "#np.genfromtxt  where multiple data type dataset\n",
    "#np.loadtxt()  where same dtatype datatset"
   ]
  },
  {
   "cell_type": "code",
   "execution_count": 55,
   "metadata": {},
   "outputs": [],
   "source": [
    "data=np.genfromtxt('https://raw.githubusercontent.com/selva86/datasets/master/Auto.csv',delimiter=',',skip_header=1,filling_values=-1000,dtype='float') #all string are converted into -1000"
   ]
  },
  {
   "cell_type": "code",
   "execution_count": 56,
   "metadata": {},
   "outputs": [
    {
     "output_type": "execute_result",
     "data": {
      "text/plain": "(392, 9)"
     },
     "metadata": {},
     "execution_count": 56
    }
   ],
   "source": [
    "data.shape"
   ]
  },
  {
   "cell_type": "code",
   "execution_count": 57,
   "metadata": {},
   "outputs": [
    {
     "output_type": "execute_result",
     "data": {
      "text/plain": "array([[   18. ,     8. ,   307. ,   130. ,  3504. ,    12. ,    70. ,\n            1. , -1000. ],\n       [   15. ,     8. ,   350. ,   165. ,  3693. ,    11.5,    70. ,\n            1. , -1000. ],\n       [   18. ,     8. ,   318. ,   150. ,  3436. ,    11. ,    70. ,\n            1. , -1000. ]])"
     },
     "metadata": {},
     "execution_count": 57
    }
   ],
   "source": [
    "data[:3] # 1st 3 rows"
   ]
  },
  {
   "cell_type": "code",
   "execution_count": 58,
   "metadata": {},
   "outputs": [
    {
     "output_type": "execute_result",
     "data": {
      "text/plain": "array([[   18. ,     8. ,   307. ,   130. ,  3504. ,    12. ,    70. ,\n            1. , -1000. ],\n       [   15. ,     8. ,   350. ,   165. ,  3693. ,    11.5,    70. ,\n            1. , -1000. ],\n       [   18. ,     8. ,   318. ,   150. ,  3436. ,    11. ,    70. ,\n            1. , -1000. ]])"
     },
     "metadata": {},
     "execution_count": 58
    }
   ],
   "source": [
    "np.set_printoptions(suppress=True) #hide scientif notation format\n",
    "data[:3]"
   ]
  },
  {
   "cell_type": "code",
   "execution_count": 59,
   "metadata": {},
   "outputs": [
    {
     "output_type": "execute_result",
     "data": {
      "text/plain": "array([[b'18', b'8', b'307', b'130', b'3504', b'12', b'70', b'1',\n        b'\"chevrolet chevelle malibu\"'],\n       [b'15', b'8', b'350', b'165', b'3693', b'11.5', b'70', b'1',\n        b'\"buick skylark 320\"'],\n       [b'18', b'8', b'318', b'150', b'3436', b'11', b'70', b'1',\n        b'\"plymouth satellite\"']], dtype=object)"
     },
     "metadata": {},
     "execution_count": 59
    }
   ],
   "source": [
    "data2= np.genfromtxt('https://raw.githubusercontent.com/selva86/datasets/master/Auto.csv',delimiter=',',skip_header=1,dtype=object)\n",
    "data2[:3]"
   ]
  },
  {
   "cell_type": "code",
   "execution_count": 60,
   "metadata": {},
   "outputs": [],
   "source": [
    "#save this to csv format\n",
    "np.savetxt('data.csv',data,delimiter=',')"
   ]
  },
  {
   "cell_type": "code",
   "execution_count": 63,
   "metadata": {},
   "outputs": [
    {
     "output_type": "execute_result",
     "data": {
      "text/plain": "array([[b'18', b'8', b'307', ..., b'70', b'1',\n        b'\"chevrolet chevelle malibu\"'],\n       [b'15', b'8', b'350', ..., b'70', b'1', b'\"buick skylark 320\"'],\n       [b'18', b'8', b'318', ..., b'70', b'1', b'\"plymouth satellite\"'],\n       ...,\n       [b'32', b'4', b'135', ..., b'82', b'1', b'\"dodge rampage\"'],\n       [b'28', b'4', b'120', ..., b'82', b'1', b'\"ford ranger\"'],\n       [b'31', b'4', b'119', ..., b'82', b'1', b'\"chevy s-10\"']],\n      dtype=object)"
     },
     "metadata": {},
     "execution_count": 63
    }
   ],
   "source": [
    "data2"
   ]
  },
  {
   "cell_type": "code",
   "execution_count": 64,
   "metadata": {},
   "outputs": [],
   "source": [
    "#save numpy array\n",
    "np.save('data.npy',data2)"
   ]
  },
  {
   "cell_type": "code",
   "execution_count": 65,
   "metadata": {},
   "outputs": [],
   "source": [
    "np.savez('data2.npz',data,data2) #save mu;tiple numpy array"
   ]
  },
  {
   "cell_type": "code",
   "execution_count": 67,
   "metadata": {},
   "outputs": [],
   "source": [
    "#loading saved file\n",
    "d= np.load('data.npy',allow_pickle = True)"
   ]
  },
  {
   "cell_type": "code",
   "execution_count": 68,
   "metadata": {},
   "outputs": [
    {
     "output_type": "execute_result",
     "data": {
      "text/plain": "array([[b'18', b'8', b'307', ..., b'70', b'1',\n        b'\"chevrolet chevelle malibu\"'],\n       [b'15', b'8', b'350', ..., b'70', b'1', b'\"buick skylark 320\"'],\n       [b'18', b'8', b'318', ..., b'70', b'1', b'\"plymouth satellite\"'],\n       ...,\n       [b'32', b'4', b'135', ..., b'82', b'1', b'\"dodge rampage\"'],\n       [b'28', b'4', b'120', ..., b'82', b'1', b'\"ford ranger\"'],\n       [b'31', b'4', b'119', ..., b'82', b'1', b'\"chevy s-10\"']],\n      dtype=object)"
     },
     "metadata": {},
     "execution_count": 68
    }
   ],
   "source": [
    "d"
   ]
  },
  {
   "cell_type": "code",
   "execution_count": 69,
   "metadata": {},
   "outputs": [],
   "source": [
    "d2= np.load('data2.npz',allow_pickle = True)"
   ]
  },
  {
   "cell_type": "code",
   "execution_count": 70,
   "metadata": {},
   "outputs": [
    {
     "output_type": "execute_result",
     "data": {
      "text/plain": "<numpy.lib.npyio.NpzFile at 0xa73a640>"
     },
     "metadata": {},
     "execution_count": 70
    }
   ],
   "source": [
    "d2 #zip file"
   ]
  },
  {
   "cell_type": "code",
   "execution_count": 71,
   "metadata": {},
   "outputs": [
    {
     "output_type": "execute_result",
     "data": {
      "text/plain": "['arr_0', 'arr_1']"
     },
     "metadata": {},
     "execution_count": 71
    }
   ],
   "source": [
    "#to get the files\n",
    "d2.files"
   ]
  },
  {
   "cell_type": "code",
   "execution_count": 72,
   "metadata": {},
   "outputs": [
    {
     "output_type": "execute_result",
     "data": {
      "text/plain": "array([[   18.,     8.,   307., ...,    70.,     1., -1000.],\n       [   15.,     8.,   350., ...,    70.,     1., -1000.],\n       [   18.,     8.,   318., ...,    70.,     1., -1000.],\n       ...,\n       [   32.,     4.,   135., ...,    82.,     1., -1000.],\n       [   28.,     4.,   120., ...,    82.,     1., -1000.],\n       [   31.,     4.,   119., ...,    82.,     1., -1000.]])"
     },
     "metadata": {},
     "execution_count": 72
    }
   ],
   "source": [
    "d2['arr_0'] #1st element"
   ]
  },
  {
   "cell_type": "code",
   "execution_count": 73,
   "metadata": {},
   "outputs": [
    {
     "output_type": "execute_result",
     "data": {
      "text/plain": "array([[b'18', b'8', b'307', ..., b'70', b'1',\n        b'\"chevrolet chevelle malibu\"'],\n       [b'15', b'8', b'350', ..., b'70', b'1', b'\"buick skylark 320\"'],\n       [b'18', b'8', b'318', ..., b'70', b'1', b'\"plymouth satellite\"'],\n       ...,\n       [b'32', b'4', b'135', ..., b'82', b'1', b'\"dodge rampage\"'],\n       [b'28', b'4', b'120', ..., b'82', b'1', b'\"ford ranger\"'],\n       [b'31', b'4', b'119', ..., b'82', b'1', b'\"chevy s-10\"']],\n      dtype=object)"
     },
     "metadata": {},
     "execution_count": 73
    }
   ],
   "source": [
    "d2['arr_1']"
   ]
  },
  {
   "cell_type": "code",
   "execution_count": 74,
   "metadata": {},
   "outputs": [],
   "source": [
    "#concatenate 2 numpy array-row wise and col wise"
   ]
  },
  {
   "cell_type": "code",
   "execution_count": 75,
   "metadata": {},
   "outputs": [],
   "source": [
    "arr1= np.zeros([4,4])\n",
    "arr2= np.ones([4,4])"
   ]
  },
  {
   "cell_type": "code",
   "execution_count": 76,
   "metadata": {},
   "outputs": [
    {
     "output_type": "execute_result",
     "data": {
      "text/plain": "array([[0., 0., 0., 0.],\n       [0., 0., 0., 0.],\n       [0., 0., 0., 0.],\n       [0., 0., 0., 0.]])"
     },
     "metadata": {},
     "execution_count": 76
    }
   ],
   "source": [
    "arr1"
   ]
  },
  {
   "cell_type": "code",
   "execution_count": 77,
   "metadata": {},
   "outputs": [
    {
     "output_type": "execute_result",
     "data": {
      "text/plain": "array([[1., 1., 1., 1.],\n       [1., 1., 1., 1.],\n       [1., 1., 1., 1.],\n       [1., 1., 1., 1.]])"
     },
     "metadata": {},
     "execution_count": 77
    }
   ],
   "source": [
    "arr2"
   ]
  },
  {
   "cell_type": "code",
   "execution_count": 78,
   "metadata": {},
   "outputs": [],
   "source": [
    "#np.concatenate , np.vstack, np.r"
   ]
  },
  {
   "cell_type": "code",
   "execution_count": 79,
   "metadata": {},
   "outputs": [
    {
     "output_type": "execute_result",
     "data": {
      "text/plain": "array([[0., 0., 0., 0.],\n       [0., 0., 0., 0.],\n       [0., 0., 0., 0.],\n       [0., 0., 0., 0.],\n       [1., 1., 1., 1.],\n       [1., 1., 1., 1.],\n       [1., 1., 1., 1.],\n       [1., 1., 1., 1.]])"
     },
     "metadata": {},
     "execution_count": 79
    }
   ],
   "source": [
    "np.concatenate([arr1,arr2],axis=0)"
   ]
  },
  {
   "cell_type": "code",
   "execution_count": 80,
   "metadata": {},
   "outputs": [
    {
     "output_type": "execute_result",
     "data": {
      "text/plain": "array([[0., 0., 0., 0.],\n       [0., 0., 0., 0.],\n       [0., 0., 0., 0.],\n       [0., 0., 0., 0.],\n       [1., 1., 1., 1.],\n       [1., 1., 1., 1.],\n       [1., 1., 1., 1.],\n       [1., 1., 1., 1.]])"
     },
     "metadata": {},
     "execution_count": 80
    }
   ],
   "source": [
    "np.vstack([arr1,arr2])"
   ]
  },
  {
   "cell_type": "code",
   "execution_count": 81,
   "metadata": {},
   "outputs": [
    {
     "output_type": "execute_result",
     "data": {
      "text/plain": "array([[0., 0., 0., 0.],\n       [0., 0., 0., 0.],\n       [0., 0., 0., 0.],\n       [0., 0., 0., 0.],\n       [1., 1., 1., 1.],\n       [1., 1., 1., 1.],\n       [1., 1., 1., 1.],\n       [1., 1., 1., 1.]])"
     },
     "metadata": {},
     "execution_count": 81
    }
   ],
   "source": [
    "np.r_[arr1,arr2]"
   ]
  },
  {
   "cell_type": "code",
   "execution_count": 82,
   "metadata": {},
   "outputs": [
    {
     "output_type": "execute_result",
     "data": {
      "text/plain": "array([[0., 0., 0., 0., 1., 1., 1., 1.],\n       [0., 0., 0., 0., 1., 1., 1., 1.],\n       [0., 0., 0., 0., 1., 1., 1., 1.],\n       [0., 0., 0., 0., 1., 1., 1., 1.]])"
     },
     "metadata": {},
     "execution_count": 82
    }
   ],
   "source": [
    "np.concatenate([arr1,arr2],axis=1)"
   ]
  },
  {
   "cell_type": "code",
   "execution_count": 83,
   "metadata": {},
   "outputs": [
    {
     "output_type": "execute_result",
     "data": {
      "text/plain": "array([[0., 0., 0., 0., 1., 1., 1., 1.],\n       [0., 0., 0., 0., 1., 1., 1., 1.],\n       [0., 0., 0., 0., 1., 1., 1., 1.],\n       [0., 0., 0., 0., 1., 1., 1., 1.]])"
     },
     "metadata": {},
     "execution_count": 83
    }
   ],
   "source": [
    "np.hstack([arr1,arr2])"
   ]
  },
  {
   "cell_type": "code",
   "execution_count": 84,
   "metadata": {},
   "outputs": [
    {
     "output_type": "execute_result",
     "data": {
      "text/plain": "array([[0., 0., 0., 0., 1., 1., 1., 1.],\n       [0., 0., 0., 0., 1., 1., 1., 1.],\n       [0., 0., 0., 0., 1., 1., 1., 1.],\n       [0., 0., 0., 0., 1., 1., 1., 1.]])"
     },
     "metadata": {},
     "execution_count": 84
    }
   ],
   "source": [
    "np.c_[arr1,arr2]"
   ]
  },
  {
   "cell_type": "code",
   "execution_count": 85,
   "metadata": {},
   "outputs": [],
   "source": [
    "#sorting an array"
   ]
  },
  {
   "cell_type": "code",
   "execution_count": 86,
   "metadata": {},
   "outputs": [
    {
     "output_type": "execute_result",
     "data": {
      "text/plain": "array([[1, 7, 2, 7, 6],\n       [4, 5, 2, 8, 3],\n       [1, 7, 2, 4, 2],\n       [7, 8, 8, 4, 5],\n       [4, 2, 1, 3, 4],\n       [4, 6, 8, 2, 5],\n       [1, 5, 9, 1, 2],\n       [3, 3, 6, 1, 1],\n       [9, 5, 1, 7, 8],\n       [6, 1, 4, 3, 5]])"
     },
     "metadata": {},
     "execution_count": 86
    }
   ],
   "source": [
    "arr = np.random.randint(1,10,size=[10,5])\n",
    "arr"
   ]
  },
  {
   "cell_type": "code",
   "execution_count": 88,
   "metadata": {},
   "outputs": [
    {
     "output_type": "execute_result",
     "data": {
      "text/plain": "array([[1, 2, 6, 7, 7],\n       [2, 3, 4, 5, 8],\n       [1, 2, 2, 4, 7],\n       [4, 5, 7, 8, 8],\n       [1, 2, 3, 4, 4],\n       [2, 4, 5, 6, 8],\n       [1, 1, 2, 5, 9],\n       [1, 1, 3, 3, 6],\n       [1, 5, 7, 8, 9],\n       [1, 3, 4, 5, 6]])"
     },
     "metadata": {},
     "execution_count": 88
    }
   ],
   "source": [
    "np.sort(arr) #sorting along the axis"
   ]
  },
  {
   "cell_type": "code",
   "execution_count": 90,
   "metadata": {},
   "outputs": [
    {
     "output_type": "execute_result",
     "data": {
      "text/plain": "array([[1, 1, 1, 1, 1],\n       [1, 2, 1, 1, 2],\n       [1, 3, 2, 2, 2],\n       [3, 5, 2, 3, 3],\n       [4, 5, 2, 3, 4],\n       [4, 5, 4, 4, 5],\n       [4, 6, 6, 4, 5],\n       [6, 7, 8, 7, 5],\n       [7, 7, 8, 7, 6],\n       [9, 8, 9, 8, 8]])"
     },
     "metadata": {},
     "execution_count": 90
    }
   ],
   "source": [
    "#sort along column\n",
    "np.sort(arr,axis=0)"
   ]
  },
  {
   "cell_type": "code",
   "execution_count": 91,
   "metadata": {},
   "outputs": [
    {
     "output_type": "execute_result",
     "data": {
      "text/plain": "array([1, 4, 1, 7, 4, 4, 1, 3, 9, 6])"
     },
     "metadata": {},
     "execution_count": 91
    }
   ],
   "source": [
    "#in the above, row order is not maintained\n",
    "arr[:,0]"
   ]
  },
  {
   "cell_type": "code",
   "execution_count": 94,
   "metadata": {},
   "outputs": [],
   "source": [
    "sorted_index= arr[:,0].argsort() #it gives the index"
   ]
  },
  {
   "cell_type": "code",
   "execution_count": 96,
   "metadata": {},
   "outputs": [
    {
     "output_type": "execute_result",
     "data": {
      "text/plain": "array([[1, 7, 2, 7, 6],\n       [1, 7, 2, 4, 2],\n       [1, 5, 9, 1, 2],\n       [3, 3, 6, 1, 1],\n       [4, 5, 2, 8, 3],\n       [4, 2, 1, 3, 4],\n       [4, 6, 8, 2, 5],\n       [6, 1, 4, 3, 5],\n       [7, 8, 8, 4, 5],\n       [9, 5, 1, 7, 8]])"
     },
     "metadata": {},
     "execution_count": 96
    }
   ],
   "source": [
    "arr[sorted_index] #sort along a simple column"
   ]
  },
  {
   "cell_type": "code",
   "execution_count": 98,
   "metadata": {},
   "outputs": [
    {
     "output_type": "execute_result",
     "data": {
      "text/plain": "numpy.datetime64('2020-06-23T23:10:06')"
     },
     "metadata": {},
     "execution_count": 98
    }
   ],
   "source": [
    "#working with dates\n",
    "dat= np.datetime64('2020-06-23 23:10:06 ')\n",
    "dat"
   ]
  },
  {
   "cell_type": "code",
   "execution_count": 99,
   "metadata": {},
   "outputs": [
    {
     "output_type": "execute_result",
     "data": {
      "text/plain": "numpy.datetime64('2020-06-23T23:10:07')"
     },
     "metadata": {},
     "execution_count": 99
    }
   ],
   "source": [
    "dat+1 #add 1 sec"
   ]
  },
  {
   "cell_type": "code",
   "execution_count": 100,
   "metadata": {},
   "outputs": [
    {
     "output_type": "execute_result",
     "data": {
      "text/plain": "numpy.datetime64('2020-06-23T23:26:46')"
     },
     "metadata": {},
     "execution_count": 100
    }
   ],
   "source": [
    "dat+1000 #16*60+40"
   ]
  },
  {
   "cell_type": "code",
   "execution_count": 101,
   "metadata": {},
   "outputs": [
    {
     "output_type": "execute_result",
     "data": {
      "text/plain": "numpy.timedelta64(1,'D')"
     },
     "metadata": {},
     "execution_count": 101
    }
   ],
   "source": [
    "#add days\n",
    "oneday= np.timedelta64(1,'D')\n",
    "oneday"
   ]
  },
  {
   "cell_type": "code",
   "execution_count": 102,
   "metadata": {},
   "outputs": [
    {
     "output_type": "execute_result",
     "data": {
      "text/plain": "numpy.datetime64('2020-06-24T23:10:06')"
     },
     "metadata": {},
     "execution_count": 102
    }
   ],
   "source": [
    "dat+ oneday"
   ]
  },
  {
   "cell_type": "code",
   "execution_count": 103,
   "metadata": {},
   "outputs": [],
   "source": [
    "oneminute= np.timedelta64(1,\"m\")"
   ]
  },
  {
   "cell_type": "code",
   "execution_count": 104,
   "metadata": {},
   "outputs": [
    {
     "output_type": "execute_result",
     "data": {
      "text/plain": "numpy.datetime64('2020-06-23T23:11:06')"
     },
     "metadata": {},
     "execution_count": 104
    }
   ],
   "source": [
    "dat+oneminute"
   ]
  },
  {
   "cell_type": "code",
   "execution_count": 106,
   "metadata": {},
   "outputs": [
    {
     "output_type": "execute_result",
     "data": {
      "text/plain": "array(['2020-06-24', '2020-06-25', '2020-06-26', '2020-06-27',\n       '2020-06-28', '2020-06-29', '2020-06-30', '2020-07-01',\n       '2020-07-02', '2020-07-03', '2020-07-04', '2020-07-05',\n       '2020-07-06', '2020-07-07', '2020-07-08', '2020-07-09',\n       '2020-07-10', '2020-07-11', '2020-07-12', '2020-07-13',\n       '2020-07-14', '2020-07-15', '2020-07-16', '2020-07-17',\n       '2020-07-18', '2020-07-19', '2020-07-20', '2020-07-21',\n       '2020-07-22', '2020-07-23', '2020-07-24', '2020-07-25',\n       '2020-07-26', '2020-07-27', '2020-07-28', '2020-07-29',\n       '2020-07-30', '2020-07-31', '2020-08-01', '2020-08-02',\n       '2020-08-03', '2020-08-04', '2020-08-05', '2020-08-06',\n       '2020-08-07', '2020-08-08', '2020-08-09', '2020-08-10',\n       '2020-08-11', '2020-08-12', '2020-08-13', '2020-08-14',\n       '2020-08-15', '2020-08-16', '2020-08-17', '2020-08-18',\n       '2020-08-19', '2020-08-20', '2020-08-21', '2020-08-22',\n       '2020-08-23', '2020-08-24', '2020-08-25', '2020-08-26',\n       '2020-08-27', '2020-08-28', '2020-08-29', '2020-08-30',\n       '2020-08-31', '2020-09-01', '2020-09-02', '2020-09-03',\n       '2020-09-04', '2020-09-05', '2020-09-06', '2020-09-07',\n       '2020-09-08', '2020-09-09', '2020-09-10', '2020-09-11',\n       '2020-09-12', '2020-09-13', '2020-09-14', '2020-09-15',\n       '2020-09-16', '2020-09-17', '2020-09-18', '2020-09-19',\n       '2020-09-20', '2020-09-21', '2020-09-22', '2020-09-23',\n       '2020-09-24', '2020-09-25', '2020-09-26', '2020-09-27',\n       '2020-09-28', '2020-09-29', '2020-09-30', '2020-10-01',\n       '2020-10-02', '2020-10-03', '2020-10-04', '2020-10-05',\n       '2020-10-06', '2020-10-07', '2020-10-08', '2020-10-09',\n       '2020-10-10', '2020-10-11', '2020-10-12', '2020-10-13',\n       '2020-10-14', '2020-10-15', '2020-10-16', '2020-10-17',\n       '2020-10-18', '2020-10-19', '2020-10-20', '2020-10-21',\n       '2020-10-22', '2020-10-23', '2020-10-24', '2020-10-25',\n       '2020-10-26', '2020-10-27', '2020-10-28', '2020-10-29',\n       '2020-10-30', '2020-10-31', '2020-11-01', '2020-11-02',\n       '2020-11-03', '2020-11-04', '2020-11-05', '2020-11-06',\n       '2020-11-07', '2020-11-08', '2020-11-09', '2020-11-10',\n       '2020-11-11', '2020-11-12', '2020-11-13', '2020-11-14',\n       '2020-11-15', '2020-11-16', '2020-11-17', '2020-11-18',\n       '2020-11-19', '2020-11-20', '2020-11-21', '2020-11-22',\n       '2020-11-23', '2020-11-24', '2020-11-25', '2020-11-26',\n       '2020-11-27', '2020-11-28', '2020-11-29', '2020-11-30',\n       '2020-12-01', '2020-12-02', '2020-12-03', '2020-12-04',\n       '2020-12-05', '2020-12-06', '2020-12-07', '2020-12-08',\n       '2020-12-09', '2020-12-10', '2020-12-11', '2020-12-12',\n       '2020-12-13', '2020-12-14', '2020-12-15', '2020-12-16',\n       '2020-12-17', '2020-12-18', '2020-12-19', '2020-12-20',\n       '2020-12-21', '2020-12-22', '2020-12-23', '2020-12-24',\n       '2020-12-25', '2020-12-26', '2020-12-27', '2020-12-28',\n       '2020-12-29', '2020-12-30', '2020-12-31', '2021-01-01',\n       '2021-01-02', '2021-01-03', '2021-01-04', '2021-01-05',\n       '2021-01-06', '2021-01-07', '2021-01-08', '2021-01-09',\n       '2021-01-10', '2021-01-11', '2021-01-12', '2021-01-13',\n       '2021-01-14', '2021-01-15', '2021-01-16', '2021-01-17',\n       '2021-01-18', '2021-01-19', '2021-01-20', '2021-01-21',\n       '2021-01-22', '2021-01-23', '2021-01-24', '2021-01-25',\n       '2021-01-26', '2021-01-27', '2021-01-28', '2021-01-29',\n       '2021-01-30', '2021-01-31', '2021-02-01', '2021-02-02',\n       '2021-02-03', '2021-02-04', '2021-02-05', '2021-02-06',\n       '2021-02-07', '2021-02-08', '2021-02-09', '2021-02-10',\n       '2021-02-11', '2021-02-12', '2021-02-13', '2021-02-14',\n       '2021-02-15', '2021-02-16', '2021-02-17', '2021-02-18',\n       '2021-02-19', '2021-02-20', '2021-02-21', '2021-02-22',\n       '2021-02-23', '2021-02-24', '2021-02-25', '2021-02-26',\n       '2021-02-27', '2021-02-28', '2021-03-01', '2021-03-02',\n       '2021-03-03', '2021-03-04', '2021-03-05', '2021-03-06',\n       '2021-03-07', '2021-03-08', '2021-03-09', '2021-03-10',\n       '2021-03-11', '2021-03-12', '2021-03-13', '2021-03-14',\n       '2021-03-15', '2021-03-16', '2021-03-17', '2021-03-18',\n       '2021-03-19', '2021-03-20', '2021-03-21', '2021-03-22',\n       '2021-03-23', '2021-03-24', '2021-03-25', '2021-03-26',\n       '2021-03-27', '2021-03-28', '2021-03-29', '2021-03-30',\n       '2021-03-31', '2021-04-01', '2021-04-02', '2021-04-03',\n       '2021-04-04', '2021-04-05', '2021-04-06', '2021-04-07',\n       '2021-04-08', '2021-04-09', '2021-04-10', '2021-04-11',\n       '2021-04-12', '2021-04-13', '2021-04-14', '2021-04-15',\n       '2021-04-16', '2021-04-17', '2021-04-18', '2021-04-19',\n       '2021-04-20', '2021-04-21', '2021-04-22', '2021-04-23',\n       '2021-04-24', '2021-04-25', '2021-04-26', '2021-04-27',\n       '2021-04-28', '2021-04-29', '2021-04-30', '2021-05-01',\n       '2021-05-02', '2021-05-03', '2021-05-04', '2021-05-05',\n       '2021-05-06', '2021-05-07', '2021-05-08', '2021-05-09',\n       '2021-05-10', '2021-05-11', '2021-05-12', '2021-05-13',\n       '2021-05-14', '2021-05-15', '2021-05-16', '2021-05-17',\n       '2021-05-18', '2021-05-19', '2021-05-20', '2021-05-21',\n       '2021-05-22', '2021-05-23', '2021-05-24', '2021-05-25',\n       '2021-05-26', '2021-05-27', '2021-05-28', '2021-05-29',\n       '2021-05-30', '2021-05-31', '2021-06-01', '2021-06-02',\n       '2021-06-03', '2021-06-04', '2021-06-05', '2021-06-06',\n       '2021-06-07', '2021-06-08', '2021-06-09', '2021-06-10',\n       '2021-06-11', '2021-06-12', '2021-06-13', '2021-06-14',\n       '2021-06-15', '2021-06-16', '2021-06-17', '2021-06-18',\n       '2021-06-19', '2021-06-20', '2021-06-21', '2021-06-22',\n       '2021-06-23'], dtype='datetime64[D]')"
     },
     "metadata": {},
     "execution_count": 106
    }
   ],
   "source": [
    "#sequence of dates\n",
    "dates= np.arange(np.datetime64('2020-06-24'),np.datetime64('2021-06-24'))\n",
    "dates"
   ]
  },
  {
   "cell_type": "code",
   "execution_count": 108,
   "metadata": {},
   "outputs": [
    {
     "output_type": "execute_result",
     "data": {
      "text/plain": "array(['2020-06-24', '2020-06-26', '2020-06-28', '2020-06-30',\n       '2020-07-02', '2020-07-04', '2020-07-06', '2020-07-08',\n       '2020-07-10', '2020-07-12', '2020-07-14', '2020-07-16',\n       '2020-07-18', '2020-07-20', '2020-07-22', '2020-07-24',\n       '2020-07-26', '2020-07-28', '2020-07-30', '2020-08-01',\n       '2020-08-03', '2020-08-05', '2020-08-07', '2020-08-09',\n       '2020-08-11', '2020-08-13', '2020-08-15', '2020-08-17',\n       '2020-08-19', '2020-08-21', '2020-08-23', '2020-08-25',\n       '2020-08-27', '2020-08-29', '2020-08-31', '2020-09-02',\n       '2020-09-04', '2020-09-06', '2020-09-08', '2020-09-10',\n       '2020-09-12', '2020-09-14', '2020-09-16', '2020-09-18',\n       '2020-09-20', '2020-09-22', '2020-09-24', '2020-09-26',\n       '2020-09-28', '2020-09-30', '2020-10-02', '2020-10-04',\n       '2020-10-06', '2020-10-08', '2020-10-10', '2020-10-12',\n       '2020-10-14', '2020-10-16', '2020-10-18', '2020-10-20',\n       '2020-10-22', '2020-10-24', '2020-10-26', '2020-10-28',\n       '2020-10-30', '2020-11-01', '2020-11-03', '2020-11-05',\n       '2020-11-07', '2020-11-09', '2020-11-11', '2020-11-13',\n       '2020-11-15', '2020-11-17', '2020-11-19', '2020-11-21',\n       '2020-11-23', '2020-11-25', '2020-11-27', '2020-11-29',\n       '2020-12-01', '2020-12-03', '2020-12-05', '2020-12-07',\n       '2020-12-09', '2020-12-11', '2020-12-13', '2020-12-15',\n       '2020-12-17', '2020-12-19', '2020-12-21', '2020-12-23',\n       '2020-12-25', '2020-12-27', '2020-12-29', '2020-12-31',\n       '2021-01-02', '2021-01-04', '2021-01-06', '2021-01-08',\n       '2021-01-10', '2021-01-12', '2021-01-14', '2021-01-16',\n       '2021-01-18', '2021-01-20', '2021-01-22', '2021-01-24',\n       '2021-01-26', '2021-01-28', '2021-01-30', '2021-02-01',\n       '2021-02-03', '2021-02-05', '2021-02-07', '2021-02-09',\n       '2021-02-11', '2021-02-13', '2021-02-15', '2021-02-17',\n       '2021-02-19', '2021-02-21', '2021-02-23', '2021-02-25',\n       '2021-02-27', '2021-03-01', '2021-03-03', '2021-03-05',\n       '2021-03-07', '2021-03-09', '2021-03-11', '2021-03-13',\n       '2021-03-15', '2021-03-17', '2021-03-19', '2021-03-21',\n       '2021-03-23', '2021-03-25', '2021-03-27', '2021-03-29',\n       '2021-03-31', '2021-04-02', '2021-04-04', '2021-04-06',\n       '2021-04-08', '2021-04-10', '2021-04-12', '2021-04-14',\n       '2021-04-16', '2021-04-18', '2021-04-20', '2021-04-22',\n       '2021-04-24', '2021-04-26', '2021-04-28', '2021-04-30',\n       '2021-05-02', '2021-05-04', '2021-05-06', '2021-05-08',\n       '2021-05-10', '2021-05-12', '2021-05-14', '2021-05-16',\n       '2021-05-18', '2021-05-20', '2021-05-22', '2021-05-24',\n       '2021-05-26', '2021-05-28', '2021-05-30', '2021-06-01',\n       '2021-06-03', '2021-06-05', '2021-06-07', '2021-06-09',\n       '2021-06-11', '2021-06-13', '2021-06-15', '2021-06-17',\n       '2021-06-19', '2021-06-21', '2021-06-23'], dtype='datetime64[D]')"
     },
     "metadata": {},
     "execution_count": 108
    }
   ],
   "source": [
    "dates= np.arange(np.datetime64('2020-06-24'),np.datetime64('2021-06-24'),2) #2 day gap\n",
    "dates"
   ]
  },
  {
   "cell_type": "code",
   "execution_count": 110,
   "metadata": {},
   "outputs": [],
   "source": [
    "#vectorize()- a function that can work on each element of an array"
   ]
  },
  {
   "cell_type": "code",
   "execution_count": 115,
   "metadata": {},
   "outputs": [
    {
     "output_type": "execute_result",
     "data": {
      "text/plain": "121"
     },
     "metadata": {},
     "execution_count": 115
    }
   ],
   "source": [
    "def foo(x): # if remainder then square it otherwise divide by 2\n",
    "    if x%2==1: \n",
    "        return x**2\n",
    "    else:\n",
    "        return x/2\n",
    "foo(11)"
   ]
  },
  {
   "cell_type": "code",
   "execution_count": 112,
   "metadata": {},
   "outputs": [],
   "source": [
    "foo_v= np.vectorize(foo,otypes=[float])"
   ]
  },
  {
   "cell_type": "code",
   "execution_count": 113,
   "metadata": {},
   "outputs": [
    {
     "output_type": "execute_result",
     "data": {
      "text/plain": "array([[1, 7, 2, 7, 6],\n       [4, 5, 2, 8, 3],\n       [1, 7, 2, 4, 2],\n       [7, 8, 8, 4, 5],\n       [4, 2, 1, 3, 4],\n       [4, 6, 8, 2, 5],\n       [1, 5, 9, 1, 2],\n       [3, 3, 6, 1, 1],\n       [9, 5, 1, 7, 8],\n       [6, 1, 4, 3, 5]])"
     },
     "metadata": {},
     "execution_count": 113
    }
   ],
   "source": [
    "arr"
   ]
  },
  {
   "cell_type": "code",
   "execution_count": 114,
   "metadata": {},
   "outputs": [
    {
     "output_type": "execute_result",
     "data": {
      "text/plain": "array([[ 1., 49.,  1., 49.,  3.],\n       [ 2., 25.,  1.,  4.,  9.],\n       [ 1., 49.,  1.,  2.,  1.],\n       [49.,  4.,  4.,  2., 25.],\n       [ 2.,  1.,  1.,  9.,  2.],\n       [ 2.,  3.,  4.,  1., 25.],\n       [ 1., 25., 81.,  1.,  1.],\n       [ 9.,  9.,  3.,  1.,  1.],\n       [81., 25.,  1., 49.,  4.],\n       [ 3.,  1.,  2.,  9., 25.]])"
     },
     "metadata": {},
     "execution_count": 114
    }
   ],
   "source": [
    "foo_v(arr)"
   ]
  },
  {
   "cell_type": "code",
   "execution_count": null,
   "metadata": {},
   "outputs": [],
   "source": []
  }
 ],
 "metadata": {
  "language_info": {
   "codemirror_mode": {
    "name": "ipython",
    "version": 3
   },
   "file_extension": ".py",
   "mimetype": "text/x-python",
   "name": "python",
   "nbconvert_exporter": "python",
   "pygments_lexer": "ipython3",
   "version": "3.8.2-final"
  },
  "orig_nbformat": 2,
  "kernelspec": {
   "name": "python38232bitcf473b5585434212915abd5aabf3e190",
   "display_name": "Python 3.8.2 32-bit"
  }
 },
 "nbformat": 4,
 "nbformat_minor": 2
}